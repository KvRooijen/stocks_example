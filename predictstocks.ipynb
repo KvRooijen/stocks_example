{
 "cells": [
  {
   "cell_type": "code",
   "execution_count": 1,
   "metadata": {
    "collapsed": false
   },
   "outputs": [
    {
     "name": "stderr",
     "output_type": "stream",
     "text": [
      "Using TensorFlow backend.\n"
     ]
    }
   ],
   "source": [
    "from keras.layers.core import Dense, Activation, Dropout\n",
    "from keras.layers.recurrent import LSTM\n",
    "from keras.models import Sequential\n",
    "import lstm, time\n"
   ]
  },
  {
   "cell_type": "code",
   "execution_count": 2,
   "metadata": {
    "collapsed": true
   },
   "outputs": [],
   "source": [
    "#step 1: Load data\n",
    "X_train, y_train, X_test, y_test = lstm.load_data('sp500.csv',50,True)"
   ]
  },
  {
   "cell_type": "code",
   "execution_count": 3,
   "metadata": {
    "collapsed": false
   },
   "outputs": [
    {
     "name": "stdout",
     "output_type": "stream",
     "text": [
      "compilation time:  0.09606432914733887\n"
     ]
    }
   ],
   "source": [
    "#step 2: Build Model\n",
    "model = Sequential()\n",
    "\n",
    "model.add(LSTM(\n",
    "    input_dim = 1,\n",
    "    output_dim = 50,\n",
    "    return_sequences = True))\n",
    "model.add(Dropout(0.2))\n",
    "\n",
    "model.add(LSTM(\n",
    "    100,\n",
    "    return_sequences = False))\n",
    "model.add(Dropout(0.2))\n",
    "\n",
    "model.add(Dense(\n",
    "    output_dim=1))\n",
    "model.add(Activation('linear'))\n",
    "\n",
    "start = time.time()\n",
    "model.compile(loss='mse', optimizer = 'rmsprop')\n",
    "print ('compilation time: ', time.time() - start)"
   ]
  },
  {
   "cell_type": "code",
   "execution_count": 4,
   "metadata": {
    "collapsed": false
   },
   "outputs": [
    {
     "name": "stdout",
     "output_type": "stream",
     "text": [
      "Train on 3338 samples, validate on 371 samples\n",
      "Epoch 1/100\n",
      " - 7s - loss: 0.0028 - val_loss: 6.4095e-04\n",
      "Epoch 2/100\n",
      " - 4s - loss: 6.6882e-04 - val_loss: 5.8499e-04\n",
      "Epoch 3/100\n",
      " - 4s - loss: 7.1475e-04 - val_loss: 4.5588e-04\n",
      "Epoch 4/100\n",
      " - 4s - loss: 5.5542e-04 - val_loss: 5.7409e-04\n",
      "Epoch 5/100\n",
      " - 4s - loss: 6.2676e-04 - val_loss: 4.5635e-04\n",
      "Epoch 6/100\n",
      " - 4s - loss: 5.2764e-04 - val_loss: 4.0472e-04\n",
      "Epoch 7/100\n",
      " - 4s - loss: 4.8176e-04 - val_loss: 3.9141e-04\n",
      "Epoch 8/100\n",
      " - 4s - loss: 5.4121e-04 - val_loss: 3.3538e-04\n",
      "Epoch 9/100\n",
      " - 4s - loss: 4.1757e-04 - val_loss: 3.0886e-04\n",
      "Epoch 10/100\n",
      " - 4s - loss: 4.6265e-04 - val_loss: 3.0749e-04\n",
      "Epoch 11/100\n",
      " - 4s - loss: 3.9788e-04 - val_loss: 3.9017e-04\n",
      "Epoch 12/100\n",
      " - 4s - loss: 4.3623e-04 - val_loss: 2.4869e-04\n",
      "Epoch 13/100\n",
      " - 4s - loss: 4.2211e-04 - val_loss: 3.8556e-04\n",
      "Epoch 14/100\n",
      " - 4s - loss: 3.9853e-04 - val_loss: 2.5803e-04\n",
      "Epoch 15/100\n",
      " - 4s - loss: 3.7121e-04 - val_loss: 2.5677e-04\n",
      "Epoch 16/100\n",
      " - 4s - loss: 3.7858e-04 - val_loss: 2.6051e-04\n",
      "Epoch 17/100\n",
      " - 4s - loss: 3.3692e-04 - val_loss: 2.3178e-04\n",
      "Epoch 18/100\n",
      " - 4s - loss: 3.6352e-04 - val_loss: 2.6999e-04\n",
      "Epoch 19/100\n",
      " - 4s - loss: 3.6070e-04 - val_loss: 2.1760e-04\n",
      "Epoch 20/100\n",
      " - 4s - loss: 2.9050e-04 - val_loss: 2.3560e-04\n",
      "Epoch 21/100\n",
      " - 4s - loss: 3.6265e-04 - val_loss: 2.2094e-04\n",
      "Epoch 22/100\n",
      " - 4s - loss: 2.9358e-04 - val_loss: 2.9205e-04\n",
      "Epoch 23/100\n",
      " - 4s - loss: 3.8383e-04 - val_loss: 2.4788e-04\n",
      "Epoch 24/100\n",
      " - 4s - loss: 2.7752e-04 - val_loss: 1.9345e-04\n",
      "Epoch 25/100\n",
      " - 4s - loss: 2.9454e-04 - val_loss: 3.3542e-04\n",
      "Epoch 26/100\n",
      " - 4s - loss: 3.3714e-04 - val_loss: 1.9504e-04\n",
      "Epoch 27/100\n",
      " - 4s - loss: 2.7483e-04 - val_loss: 2.2202e-04\n",
      "Epoch 28/100\n",
      " - 4s - loss: 3.0402e-04 - val_loss: 1.9841e-04\n",
      "Epoch 29/100\n",
      " - 4s - loss: 2.7357e-04 - val_loss: 2.0567e-04\n",
      "Epoch 30/100\n",
      " - 4s - loss: 3.1683e-04 - val_loss: 2.2136e-04\n",
      "Epoch 31/100\n",
      " - 4s - loss: 2.5945e-04 - val_loss: 2.5026e-04\n",
      "Epoch 32/100\n",
      " - 4s - loss: 3.1541e-04 - val_loss: 2.0892e-04\n",
      "Epoch 33/100\n",
      " - 4s - loss: 2.5182e-04 - val_loss: 1.8131e-04\n",
      "Epoch 34/100\n",
      " - 4s - loss: 3.1004e-04 - val_loss: 2.3598e-04\n",
      "Epoch 35/100\n",
      " - 4s - loss: 2.4928e-04 - val_loss: 2.3764e-04\n",
      "Epoch 36/100\n",
      " - 4s - loss: 2.8352e-04 - val_loss: 1.7709e-04\n",
      "Epoch 37/100\n",
      " - 4s - loss: 2.3056e-04 - val_loss: 2.0708e-04\n",
      "Epoch 38/100\n",
      " - 4s - loss: 2.8303e-04 - val_loss: 1.7734e-04\n",
      "Epoch 39/100\n",
      " - 4s - loss: 2.6726e-04 - val_loss: 2.0363e-04\n",
      "Epoch 40/100\n",
      " - 4s - loss: 2.4849e-04 - val_loss: 2.5735e-04\n",
      "Epoch 41/100\n",
      " - 4s - loss: 2.6789e-04 - val_loss: 1.8339e-04\n",
      "Epoch 42/100\n",
      " - 4s - loss: 2.3806e-04 - val_loss: 1.8393e-04\n",
      "Epoch 43/100\n",
      " - 4s - loss: 2.8932e-04 - val_loss: 1.8462e-04\n",
      "Epoch 44/100\n",
      " - 4s - loss: 2.3248e-04 - val_loss: 1.8388e-04\n",
      "Epoch 45/100\n",
      " - 4s - loss: 2.5928e-04 - val_loss: 2.4598e-04\n",
      "Epoch 46/100\n",
      " - 4s - loss: 2.2560e-04 - val_loss: 1.6977e-04\n",
      "Epoch 47/100\n",
      " - 4s - loss: 2.5469e-04 - val_loss: 1.9137e-04\n",
      "Epoch 48/100\n",
      " - 4s - loss: 2.4686e-04 - val_loss: 2.7836e-04\n",
      "Epoch 49/100\n",
      " - 4s - loss: 2.2910e-04 - val_loss: 1.6761e-04\n",
      "Epoch 50/100\n",
      " - 4s - loss: 2.6993e-04 - val_loss: 2.3438e-04\n",
      "Epoch 51/100\n",
      " - 4s - loss: 2.0557e-04 - val_loss: 1.6022e-04\n",
      "Epoch 52/100\n",
      " - 4s - loss: 2.3060e-04 - val_loss: 2.3330e-04\n",
      "Epoch 53/100\n",
      " - 4s - loss: 2.3542e-04 - val_loss: 1.8883e-04\n",
      "Epoch 54/100\n",
      " - 4s - loss: 2.2194e-04 - val_loss: 2.2942e-04\n",
      "Epoch 55/100\n",
      " - 4s - loss: 2.4228e-04 - val_loss: 1.7022e-04\n",
      "Epoch 56/100\n",
      " - 4s - loss: 2.1693e-04 - val_loss: 3.0008e-04\n",
      "Epoch 57/100\n",
      " - 4s - loss: 2.5539e-04 - val_loss: 1.6590e-04\n",
      "Epoch 58/100\n",
      " - 4s - loss: 2.2209e-04 - val_loss: 2.0877e-04\n",
      "Epoch 59/100\n",
      " - 4s - loss: 2.1447e-04 - val_loss: 1.8058e-04\n",
      "Epoch 60/100\n",
      " - 4s - loss: 2.4707e-04 - val_loss: 1.4951e-04\n",
      "Epoch 61/100\n",
      " - 4s - loss: 2.1324e-04 - val_loss: 1.5327e-04\n",
      "Epoch 62/100\n",
      " - 4s - loss: 2.3816e-04 - val_loss: 2.1221e-04\n",
      "Epoch 63/100\n",
      " - 4s - loss: 2.1664e-04 - val_loss: 2.1320e-04\n",
      "Epoch 64/100\n",
      " - 4s - loss: 2.2176e-04 - val_loss: 2.8964e-04\n",
      "Epoch 65/100\n",
      " - 4s - loss: 2.4419e-04 - val_loss: 1.5652e-04\n",
      "Epoch 66/100\n",
      " - 4s - loss: 2.0232e-04 - val_loss: 1.7415e-04\n",
      "Epoch 67/100\n",
      " - 4s - loss: 2.2900e-04 - val_loss: 1.4034e-04\n",
      "Epoch 68/100\n",
      " - 4s - loss: 2.1002e-04 - val_loss: 1.4073e-04\n",
      "Epoch 69/100\n",
      " - 4s - loss: 2.5183e-04 - val_loss: 1.6084e-04\n",
      "Epoch 70/100\n",
      " - 4s - loss: 2.0128e-04 - val_loss: 1.5244e-04\n",
      "Epoch 71/100\n",
      " - 4s - loss: 2.4009e-04 - val_loss: 1.6226e-04\n",
      "Epoch 72/100\n",
      " - 4s - loss: 2.1609e-04 - val_loss: 1.5765e-04\n",
      "Epoch 73/100\n",
      " - 4s - loss: 2.0241e-04 - val_loss: 2.0079e-04\n",
      "Epoch 74/100\n",
      " - 4s - loss: 2.3399e-04 - val_loss: 1.8643e-04\n",
      "Epoch 75/100\n",
      " - 4s - loss: 2.2460e-04 - val_loss: 1.8080e-04\n",
      "Epoch 76/100\n",
      " - 4s - loss: 2.0971e-04 - val_loss: 1.6460e-04\n",
      "Epoch 77/100\n",
      " - 4s - loss: 2.3163e-04 - val_loss: 1.6895e-04\n",
      "Epoch 78/100\n",
      " - 4s - loss: 1.8711e-04 - val_loss: 2.0405e-04\n",
      "Epoch 79/100\n",
      " - 4s - loss: 2.4459e-04 - val_loss: 1.4566e-04\n",
      "Epoch 80/100\n",
      " - 4s - loss: 1.9502e-04 - val_loss: 1.5305e-04\n",
      "Epoch 81/100\n",
      " - 4s - loss: 2.2633e-04 - val_loss: 1.9285e-04\n",
      "Epoch 82/100\n",
      " - 4s - loss: 2.0071e-04 - val_loss: 1.5130e-04\n",
      "Epoch 83/100\n",
      " - 4s - loss: 2.1213e-04 - val_loss: 1.5165e-04\n",
      "Epoch 84/100\n",
      " - 4s - loss: 2.1844e-04 - val_loss: 2.2884e-04\n",
      "Epoch 85/100\n",
      " - 4s - loss: 2.2851e-04 - val_loss: 1.4027e-04\n",
      "Epoch 86/100\n",
      " - 4s - loss: 2.0094e-04 - val_loss: 2.1570e-04\n",
      "Epoch 87/100\n",
      " - 4s - loss: 2.1633e-04 - val_loss: 1.7998e-04\n",
      "Epoch 88/100\n",
      " - 4s - loss: 2.2149e-04 - val_loss: 1.4171e-04\n",
      "Epoch 89/100\n",
      " - 4s - loss: 2.0025e-04 - val_loss: 1.9133e-04\n",
      "Epoch 90/100\n",
      " - 4s - loss: 2.2779e-04 - val_loss: 1.5072e-04\n",
      "Epoch 91/100\n",
      " - 4s - loss: 2.1804e-04 - val_loss: 1.7281e-04\n",
      "Epoch 92/100\n",
      " - 4s - loss: 2.1040e-04 - val_loss: 1.4114e-04\n",
      "Epoch 93/100\n",
      " - 4s - loss: 1.8928e-04 - val_loss: 1.8891e-04\n",
      "Epoch 94/100\n",
      " - 4s - loss: 2.2514e-04 - val_loss: 1.4775e-04\n",
      "Epoch 95/100\n",
      " - 4s - loss: 2.2040e-04 - val_loss: 1.9418e-04\n",
      "Epoch 96/100\n",
      " - 4s - loss: 1.8755e-04 - val_loss: 1.3680e-04\n",
      "Epoch 97/100\n",
      " - 4s - loss: 2.1716e-04 - val_loss: 1.8061e-04\n",
      "Epoch 98/100\n",
      " - 4s - loss: 1.9741e-04 - val_loss: 1.3652e-04\n",
      "Epoch 99/100\n",
      " - 4s - loss: 2.2040e-04 - val_loss: 1.8494e-04\n",
      "Epoch 100/100\n",
      " - 4s - loss: 1.9183e-04 - val_loss: 1.3595e-04\n"
     ]
    },
    {
     "data": {
      "text/plain": [
       "<keras.callbacks.History at 0x266efed4940>"
      ]
     },
     "execution_count": 4,
     "metadata": {},
     "output_type": "execute_result"
    }
   ],
   "source": [
    "#step 3: Train the model\n",
    "model.fit(\n",
    "    X_train,\n",
    "    y_train,\n",
    "    batch_size = 512,\n",
    "    nb_epoch = 100,\n",
    "    validation_split = 0.1,\n",
    "    verbose = 2)"
   ]
  },
  {
   "cell_type": "code",
   "execution_count": 5,
   "metadata": {
    "collapsed": false,
    "scrolled": true
   },
   "outputs": [
    {
     "data": {
      "image/png": "[encoded data removed]",
      "text/plain": [
       "<matplotlib.figure.Figure at 0x266efed4860>"
      ]
     },
     "metadata": {},
     "output_type": "display_data"
    }
   ],
   "source": [
    "#step 4: Plot the predictions\n",
    "predictions = lstm.predict_sequences_multiple(model,X_test,50,50)\n",
    "lstm.plot_results_multiple(predictions, y_test, 50)"
   ]
  },
  {
   "cell_type": "code",
   "execution_count": null,
   "metadata": {
    "collapsed": false
   },
   "outputs": [],
   "source": []
  },
  {
   "cell_type": "code",
   "execution_count": null,
   "metadata": {
    "collapsed": true
   },
   "outputs": [],
   "source": []
  }
 ],
 "metadata": {
  "anaconda-cloud": {},
  "kernelspec": {
   "display_name": "Python [conda env:kerasenv]",
   "language": "python",
   "name": "conda-env-kerasenv-py"
  },
  "language_info": {
   "codemirror_mode": {
    "name": "ipython",
    "version": 3
   },
   "file_extension": ".py",
   "mimetype": "text/x-python",
   "name": "python",
   "nbconvert_exporter": "python",
   "pygments_lexer": "ipython3",
   "version": "3.5.4"
  }
 },
 "nbformat": 4,
 "nbformat_minor": 2
}
